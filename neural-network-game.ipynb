{
 "cells": [
  {
   "cell_type": "code",
   "execution_count": 1,
   "id": "048f1f1f",
   "metadata": {},
   "outputs": [],
   "source": [
    "import pandas as pd"
   ]
  },
  {
   "cell_type": "code",
   "execution_count": 2,
   "id": "2fba5742",
   "metadata": {},
   "outputs": [],
   "source": [
    "df_1 = pd.read_csv('./training_data_08-29-2022-21-20-03.csv')\n",
    "df_2 = pd.read_csv('./training_data_08-29-2022-21-23-40.csv')\n",
    "df_3 = pd.read_csv('./training_data_08-31-2022-14-43-01.csv')\n",
    "df = pd.concat([df_1, df_2, df_3])"
   ]
  },
  {
   "cell_type": "markdown",
   "id": "ab3bc950",
   "metadata": {},
   "source": [
    "# Analyse Data"
   ]
  },
  {
   "cell_type": "code",
   "execution_count": 3,
   "id": "5fdf94c7",
   "metadata": {},
   "outputs": [
    {
     "name": "stdout",
     "output_type": "stream",
     "text": [
      "<class 'pandas.core.frame.DataFrame'>\n",
      "Int64Index: 7962 entries, 0 to 3678\n",
      "Data columns (total 8 columns):\n",
      " #   Column      Non-Null Count  Dtype  \n",
      "---  ------      --------------  -----  \n",
      " 0   Unnamed: 0  7962 non-null   int64  \n",
      " 1   i_sensor_1  7962 non-null   int64  \n",
      " 2   i_sensor_2  7962 non-null   int64  \n",
      " 3   i_sensor_3  7962 non-null   int64  \n",
      " 4   o_left      7962 non-null   bool   \n",
      " 5   o_right     7962 non-null   bool   \n",
      " 6   i_sensor_4  7962 non-null   float64\n",
      " 7   i_sensor_5  7962 non-null   float64\n",
      "dtypes: bool(2), float64(2), int64(4)\n",
      "memory usage: 451.0 KB\n"
     ]
    }
   ],
   "source": [
    "df.info()"
   ]
  },
  {
   "cell_type": "code",
   "execution_count": 4,
   "id": "a5544e94",
   "metadata": {},
   "outputs": [
    {
     "data": {
      "text/plain": [
       "<AxesSubplot:>"
      ]
     },
     "execution_count": 4,
     "metadata": {},
     "output_type": "execute_result"
    },
    {
     "data": {
      "image/png": "[encoded data removed]",
      "text/plain": [
       "<Figure size 432x288 with 2 Axes>"
      ]
     },
     "metadata": {
      "needs_background": "light"
     },
     "output_type": "display_data"
    }
   ],
   "source": [
    "import seaborn as sns\n",
    "sns.heatmap(df.corr())"
   ]
  },
  {
   "cell_type": "markdown",
   "id": "c67f708d",
   "metadata": {},
   "source": [
    "# Scale/convert input values"
   ]
  },
  {
   "cell_type": "code",
   "execution_count": 5,
   "id": "bb24743d",
   "metadata": {},
   "outputs": [],
   "source": [
    "df = df.astype({'o_left': int, 'o_right': int})   "
   ]
  },
  {
   "cell_type": "code",
   "execution_count": 6,
   "id": "536534f1",
   "metadata": {},
   "outputs": [
    {
     "data": {
      "text/html": [
       "<div>\n",
       "<style scoped>\n",
       "    .dataframe tbody tr th:only-of-type {\n",
       "        vertical-align: middle;\n",
       "    }\n",
       "\n",
       "    .dataframe tbody tr th {\n",
       "        vertical-align: top;\n",
       "    }\n",
       "\n",
       "    .dataframe thead th {\n",
       "        text-align: right;\n",
       "    }\n",
       "</style>\n",
       "<table border=\"1\" class=\"dataframe\">\n",
       "  <thead>\n",
       "    <tr style=\"text-align: right;\">\n",
       "      <th></th>\n",
       "      <th>Unnamed: 0</th>\n",
       "      <th>i_sensor_1</th>\n",
       "      <th>i_sensor_2</th>\n",
       "      <th>i_sensor_3</th>\n",
       "      <th>o_left</th>\n",
       "      <th>o_right</th>\n",
       "      <th>i_sensor_4</th>\n",
       "      <th>i_sensor_5</th>\n",
       "    </tr>\n",
       "  </thead>\n",
       "  <tbody>\n",
       "    <tr>\n",
       "      <th>0</th>\n",
       "      <td>0</td>\n",
       "      <td>600</td>\n",
       "      <td>61</td>\n",
       "      <td>87</td>\n",
       "      <td>0</td>\n",
       "      <td>0</td>\n",
       "      <td>88.0</td>\n",
       "      <td>75.0</td>\n",
       "    </tr>\n",
       "    <tr>\n",
       "      <th>1</th>\n",
       "      <td>0</td>\n",
       "      <td>600</td>\n",
       "      <td>65</td>\n",
       "      <td>87</td>\n",
       "      <td>0</td>\n",
       "      <td>0</td>\n",
       "      <td>100.0</td>\n",
       "      <td>76.0</td>\n",
       "    </tr>\n",
       "    <tr>\n",
       "      <th>2</th>\n",
       "      <td>0</td>\n",
       "      <td>600</td>\n",
       "      <td>65</td>\n",
       "      <td>87</td>\n",
       "      <td>0</td>\n",
       "      <td>0</td>\n",
       "      <td>100.0</td>\n",
       "      <td>76.0</td>\n",
       "    </tr>\n",
       "    <tr>\n",
       "      <th>3</th>\n",
       "      <td>0</td>\n",
       "      <td>600</td>\n",
       "      <td>65</td>\n",
       "      <td>87</td>\n",
       "      <td>0</td>\n",
       "      <td>0</td>\n",
       "      <td>57.0</td>\n",
       "      <td>76.0</td>\n",
       "    </tr>\n",
       "    <tr>\n",
       "      <th>4</th>\n",
       "      <td>0</td>\n",
       "      <td>600</td>\n",
       "      <td>65</td>\n",
       "      <td>88</td>\n",
       "      <td>0</td>\n",
       "      <td>0</td>\n",
       "      <td>57.0</td>\n",
       "      <td>76.0</td>\n",
       "    </tr>\n",
       "  </tbody>\n",
       "</table>\n",
       "</div>"
      ],
      "text/plain": [
       "   Unnamed: 0  i_sensor_1  i_sensor_2  i_sensor_3  o_left  o_right  \\\n",
       "0           0         600          61          87       0        0   \n",
       "1           0         600          65          87       0        0   \n",
       "2           0         600          65          87       0        0   \n",
       "3           0         600          65          87       0        0   \n",
       "4           0         600          65          88       0        0   \n",
       "\n",
       "   i_sensor_4  i_sensor_5  \n",
       "0        88.0        75.0  \n",
       "1       100.0        76.0  \n",
       "2       100.0        76.0  \n",
       "3        57.0        76.0  \n",
       "4        57.0        76.0  "
      ]
     },
     "execution_count": 6,
     "metadata": {},
     "output_type": "execute_result"
    }
   ],
   "source": [
    "df.head()"
   ]
  },
  {
   "cell_type": "code",
   "execution_count": 7,
   "id": "6aceb1f6",
   "metadata": {},
   "outputs": [
    {
     "data": {
      "text/html": [
       "<div>\n",
       "<style scoped>\n",
       "    .dataframe tbody tr th:only-of-type {\n",
       "        vertical-align: middle;\n",
       "    }\n",
       "\n",
       "    .dataframe tbody tr th {\n",
       "        vertical-align: top;\n",
       "    }\n",
       "\n",
       "    .dataframe thead th {\n",
       "        text-align: right;\n",
       "    }\n",
       "</style>\n",
       "<table border=\"1\" class=\"dataframe\">\n",
       "  <thead>\n",
       "    <tr style=\"text-align: right;\">\n",
       "      <th></th>\n",
       "      <th>Unnamed: 0</th>\n",
       "      <th>i_sensor_1</th>\n",
       "      <th>i_sensor_2</th>\n",
       "      <th>i_sensor_3</th>\n",
       "      <th>o_left</th>\n",
       "      <th>o_right</th>\n",
       "      <th>i_sensor_4</th>\n",
       "      <th>i_sensor_5</th>\n",
       "    </tr>\n",
       "  </thead>\n",
       "  <tbody>\n",
       "    <tr>\n",
       "      <th>16</th>\n",
       "      <td>0</td>\n",
       "      <td>600</td>\n",
       "      <td>76</td>\n",
       "      <td>69</td>\n",
       "      <td>1</td>\n",
       "      <td>0</td>\n",
       "      <td>63.0</td>\n",
       "      <td>66.0</td>\n",
       "    </tr>\n",
       "    <tr>\n",
       "      <th>20</th>\n",
       "      <td>0</td>\n",
       "      <td>600</td>\n",
       "      <td>73</td>\n",
       "      <td>69</td>\n",
       "      <td>1</td>\n",
       "      <td>0</td>\n",
       "      <td>65.0</td>\n",
       "      <td>62.0</td>\n",
       "    </tr>\n",
       "    <tr>\n",
       "      <th>118</th>\n",
       "      <td>0</td>\n",
       "      <td>120</td>\n",
       "      <td>200</td>\n",
       "      <td>72</td>\n",
       "      <td>1</td>\n",
       "      <td>0</td>\n",
       "      <td>73.0</td>\n",
       "      <td>63.0</td>\n",
       "    </tr>\n",
       "    <tr>\n",
       "      <th>119</th>\n",
       "      <td>0</td>\n",
       "      <td>121</td>\n",
       "      <td>200</td>\n",
       "      <td>79</td>\n",
       "      <td>1</td>\n",
       "      <td>0</td>\n",
       "      <td>73.0</td>\n",
       "      <td>64.0</td>\n",
       "    </tr>\n",
       "    <tr>\n",
       "      <th>120</th>\n",
       "      <td>0</td>\n",
       "      <td>120</td>\n",
       "      <td>200</td>\n",
       "      <td>87</td>\n",
       "      <td>1</td>\n",
       "      <td>0</td>\n",
       "      <td>72.0</td>\n",
       "      <td>66.0</td>\n",
       "    </tr>\n",
       "    <tr>\n",
       "      <th>...</th>\n",
       "      <td>...</td>\n",
       "      <td>...</td>\n",
       "      <td>...</td>\n",
       "      <td>...</td>\n",
       "      <td>...</td>\n",
       "      <td>...</td>\n",
       "      <td>...</td>\n",
       "      <td>...</td>\n",
       "    </tr>\n",
       "    <tr>\n",
       "      <th>3628</th>\n",
       "      <td>0</td>\n",
       "      <td>111</td>\n",
       "      <td>88</td>\n",
       "      <td>35</td>\n",
       "      <td>1</td>\n",
       "      <td>0</td>\n",
       "      <td>58.0</td>\n",
       "      <td>30.0</td>\n",
       "    </tr>\n",
       "    <tr>\n",
       "      <th>3629</th>\n",
       "      <td>0</td>\n",
       "      <td>190</td>\n",
       "      <td>81</td>\n",
       "      <td>38</td>\n",
       "      <td>1</td>\n",
       "      <td>0</td>\n",
       "      <td>58.0</td>\n",
       "      <td>28.0</td>\n",
       "    </tr>\n",
       "    <tr>\n",
       "      <th>3630</th>\n",
       "      <td>0</td>\n",
       "      <td>259</td>\n",
       "      <td>76</td>\n",
       "      <td>33</td>\n",
       "      <td>1</td>\n",
       "      <td>0</td>\n",
       "      <td>57.0</td>\n",
       "      <td>26.0</td>\n",
       "    </tr>\n",
       "    <tr>\n",
       "      <th>3631</th>\n",
       "      <td>0</td>\n",
       "      <td>600</td>\n",
       "      <td>71</td>\n",
       "      <td>42</td>\n",
       "      <td>1</td>\n",
       "      <td>0</td>\n",
       "      <td>57.0</td>\n",
       "      <td>28.0</td>\n",
       "    </tr>\n",
       "    <tr>\n",
       "      <th>3636</th>\n",
       "      <td>0</td>\n",
       "      <td>600</td>\n",
       "      <td>71</td>\n",
       "      <td>39</td>\n",
       "      <td>1</td>\n",
       "      <td>0</td>\n",
       "      <td>59.0</td>\n",
       "      <td>29.0</td>\n",
       "    </tr>\n",
       "  </tbody>\n",
       "</table>\n",
       "<p>1377 rows × 8 columns</p>\n",
       "</div>"
      ],
      "text/plain": [
       "      Unnamed: 0  i_sensor_1  i_sensor_2  i_sensor_3  o_left  o_right  \\\n",
       "16             0         600          76          69       1        0   \n",
       "20             0         600          73          69       1        0   \n",
       "118            0         120         200          72       1        0   \n",
       "119            0         121         200          79       1        0   \n",
       "120            0         120         200          87       1        0   \n",
       "...          ...         ...         ...         ...     ...      ...   \n",
       "3628           0         111          88          35       1        0   \n",
       "3629           0         190          81          38       1        0   \n",
       "3630           0         259          76          33       1        0   \n",
       "3631           0         600          71          42       1        0   \n",
       "3636           0         600          71          39       1        0   \n",
       "\n",
       "      i_sensor_4  i_sensor_5  \n",
       "16          63.0        66.0  \n",
       "20          65.0        62.0  \n",
       "118         73.0        63.0  \n",
       "119         73.0        64.0  \n",
       "120         72.0        66.0  \n",
       "...          ...         ...  \n",
       "3628        58.0        30.0  \n",
       "3629        58.0        28.0  \n",
       "3630        57.0        26.0  \n",
       "3631        57.0        28.0  \n",
       "3636        59.0        29.0  \n",
       "\n",
       "[1377 rows x 8 columns]"
      ]
     },
     "execution_count": 7,
     "metadata": {},
     "output_type": "execute_result"
    }
   ],
   "source": [
    "df[df['o_left']==1]"
   ]
  },
  {
   "cell_type": "markdown",
   "id": "dc71558f",
   "metadata": {},
   "source": [
    "# Set Train and test "
   ]
  },
  {
   "cell_type": "code",
   "execution_count": 8,
   "id": "1d1765db",
   "metadata": {},
   "outputs": [],
   "source": [
    "from sklearn.model_selection import train_test_split\n",
    "X = df.drop(['o_left','o_right','Unnamed: 0'],axis=1).values\n",
    "y = df[['o_left','o_right']].values\n",
    "X_train, X_test, y_train, y_test = train_test_split(X,y,test_size=0.30,random_state=101)"
   ]
  },
  {
   "cell_type": "code",
   "execution_count": null,
   "id": "c1e51e9c",
   "metadata": {},
   "outputs": [],
   "source": []
  },
  {
   "cell_type": "markdown",
   "id": "1c0c8443",
   "metadata": {},
   "source": [
    "# Create neural network"
   ]
  },
  {
   "cell_type": "code",
   "execution_count": 9,
   "id": "a4057941",
   "metadata": {},
   "outputs": [],
   "source": [
    "import tensorflow as tf\n",
    "from tensorflow.keras.models import Sequential\n",
    "from tensorflow.keras.layers import Dense, Activation,Dropout"
   ]
  },
  {
   "cell_type": "code",
   "execution_count": 10,
   "id": "dfcc7fe3",
   "metadata": {},
   "outputs": [
    {
     "data": {
      "text/plain": [
       "(5573, 5)"
      ]
     },
     "execution_count": 10,
     "metadata": {},
     "output_type": "execute_result"
    }
   ],
   "source": [
    "import os\n",
    "model = Sequential()\n",
    "\n",
    "early_stopping = tf.keras.callbacks.EarlyStopping(\n",
    "    monitor=\"accuracy\",\n",
    "    min_delta=2,\n",
    "    patience=30,\n",
    "    verbose=1,\n",
    "    mode=\"auto\",\n",
    "    baseline=None,\n",
    "    restore_best_weights=True,\n",
    ")\n",
    "\n",
    "X_train.shape"
   ]
  },
  {
   "cell_type": "code",
   "execution_count": 11,
   "id": "77bb976e",
   "metadata": {},
   "outputs": [],
   "source": [
    "model.add(Dense(units=8, input_dim=5,activation='relu'))\n",
    "\n",
    "model.add(Dense(units=10,activation='relu'))\n",
    "\n",
    "model.add(Dense(units=4,activation='relu'))\n",
    "\n",
    "model.add(Dense(2,activation='softmax'))\n",
    "\n",
    "model.compile(loss='binary_crossentropy', optimizer='adam', metrics=['accuracy'])"
   ]
  },
  {
   "cell_type": "markdown",
   "id": "06a8af76",
   "metadata": {},
   "source": [
    "# Train model"
   ]
  },
  {
   "cell_type": "code",
   "execution_count": 12,
   "id": "01b1332a",
   "metadata": {},
   "outputs": [
    {
     "name": "stdout",
     "output_type": "stream",
     "text": [
      "Epoch 1/800\n",
      "175/175 [==============================] - 1s 2ms/step - loss: 0.6904 - accuracy: 0.8879 - val_loss: 0.4654 - val_accuracy: 0.9146\n",
      "Epoch 2/800\n",
      "175/175 [==============================] - 0s 1ms/step - loss: 0.4327 - accuracy: 0.9094 - val_loss: 0.4007 - val_accuracy: 0.9142\n",
      "Epoch 3/800\n",
      "175/175 [==============================] - 0s 998us/step - loss: 0.3829 - accuracy: 0.9010 - val_loss: 0.3632 - val_accuracy: 0.9067\n",
      "Epoch 4/800\n",
      "175/175 [==============================] - 0s 1ms/step - loss: 0.3575 - accuracy: 0.8983 - val_loss: 0.3418 - val_accuracy: 0.9021\n",
      "Epoch 5/800\n",
      "175/175 [==============================] - 0s 986us/step - loss: 0.3445 - accuracy: 0.8934 - val_loss: 0.3293 - val_accuracy: 0.9033\n",
      "Epoch 6/800\n",
      "175/175 [==============================] - 0s 980us/step - loss: 0.3341 - accuracy: 0.8904 - val_loss: 0.3360 - val_accuracy: 0.8882\n",
      "Epoch 7/800\n",
      "175/175 [==============================] - 0s 1ms/step - loss: 0.3291 - accuracy: 0.8825 - val_loss: 0.3203 - val_accuracy: 0.8790\n",
      "Epoch 8/800\n",
      "175/175 [==============================] - 0s 977us/step - loss: 0.3271 - accuracy: 0.8776 - val_loss: 0.3209 - val_accuracy: 0.8774\n",
      "Epoch 9/800\n",
      "175/175 [==============================] - 0s 984us/step - loss: 0.3247 - accuracy: 0.8731 - val_loss: 0.3186 - val_accuracy: 0.8807\n",
      "Epoch 10/800\n",
      "175/175 [==============================] - 0s 977us/step - loss: 0.3242 - accuracy: 0.8735 - val_loss: 0.3175 - val_accuracy: 0.8778\n",
      "Epoch 11/800\n",
      "175/175 [==============================] - 0s 976us/step - loss: 0.3219 - accuracy: 0.8695 - val_loss: 0.3131 - val_accuracy: 0.8799\n",
      "Epoch 12/800\n",
      "175/175 [==============================] - 0s 997us/step - loss: 0.3232 - accuracy: 0.8708 - val_loss: 0.3132 - val_accuracy: 0.8711\n",
      "Epoch 13/800\n",
      "175/175 [==============================] - 0s 979us/step - loss: 0.3215 - accuracy: 0.8669 - val_loss: 0.3129 - val_accuracy: 0.8635\n",
      "Epoch 14/800\n",
      "175/175 [==============================] - 0s 989us/step - loss: 0.3193 - accuracy: 0.8701 - val_loss: 0.3130 - val_accuracy: 0.8635\n",
      "Epoch 15/800\n",
      "175/175 [==============================] - 0s 1000us/step - loss: 0.3192 - accuracy: 0.8692 - val_loss: 0.3130 - val_accuracy: 0.8732\n",
      "Epoch 16/800\n",
      "175/175 [==============================] - 0s 990us/step - loss: 0.3184 - accuracy: 0.8742 - val_loss: 0.3100 - val_accuracy: 0.8606\n",
      "Epoch 17/800\n",
      "175/175 [==============================] - 0s 996us/step - loss: 0.3168 - accuracy: 0.8647 - val_loss: 0.3094 - val_accuracy: 0.8744\n",
      "Epoch 18/800\n",
      "175/175 [==============================] - 0s 974us/step - loss: 0.3161 - accuracy: 0.8665 - val_loss: 0.3085 - val_accuracy: 0.8635\n",
      "Epoch 19/800\n",
      "175/175 [==============================] - 0s 982us/step - loss: 0.3158 - accuracy: 0.8676 - val_loss: 0.3100 - val_accuracy: 0.8573\n",
      "Epoch 20/800\n",
      "175/175 [==============================] - 0s 973us/step - loss: 0.3145 - accuracy: 0.8642 - val_loss: 0.3096 - val_accuracy: 0.8455\n",
      "Epoch 21/800\n",
      "175/175 [==============================] - 0s 985us/step - loss: 0.3144 - accuracy: 0.8627 - val_loss: 0.3068 - val_accuracy: 0.8589\n",
      "Epoch 22/800\n",
      "175/175 [==============================] - 0s 975us/step - loss: 0.3131 - accuracy: 0.8572 - val_loss: 0.3096 - val_accuracy: 0.8757\n",
      "Epoch 23/800\n",
      "175/175 [==============================] - 0s 990us/step - loss: 0.3129 - accuracy: 0.8624 - val_loss: 0.3056 - val_accuracy: 0.8698\n",
      "Epoch 24/800\n",
      "175/175 [==============================] - 0s 980us/step - loss: 0.3110 - accuracy: 0.8611 - val_loss: 0.3094 - val_accuracy: 0.8744\n",
      "Epoch 25/800\n",
      "175/175 [==============================] - 0s 983us/step - loss: 0.3109 - accuracy: 0.8521 - val_loss: 0.3055 - val_accuracy: 0.8510\n",
      "Epoch 26/800\n",
      "175/175 [==============================] - 0s 988us/step - loss: 0.3115 - accuracy: 0.8493 - val_loss: 0.3036 - val_accuracy: 0.8694\n",
      "Epoch 27/800\n",
      "175/175 [==============================] - 0s 1ms/step - loss: 0.3097 - accuracy: 0.8588 - val_loss: 0.3053 - val_accuracy: 0.8242\n",
      "Epoch 28/800\n",
      "175/175 [==============================] - 0s 998us/step - loss: 0.3105 - accuracy: 0.8198 - val_loss: 0.3134 - val_accuracy: 0.8753\n",
      "Epoch 29/800\n",
      "175/175 [==============================] - 0s 981us/step - loss: 0.3098 - accuracy: 0.8412 - val_loss: 0.3024 - val_accuracy: 0.8489\n",
      "Epoch 30/800\n",
      "175/175 [==============================] - 0s 983us/step - loss: 0.3079 - accuracy: 0.8453 - val_loss: 0.3030 - val_accuracy: 0.8326\n",
      "Epoch 31/800\n",
      "148/175 [========================>.....] - ETA: 0s - loss: 0.3111 - accuracy: 0.8431Restoring model weights from the end of the best epoch: 1.\n",
      "175/175 [==============================] - 0s 1ms/step - loss: 0.3080 - accuracy: 0.8412 - val_loss: 0.3051 - val_accuracy: 0.8568\n",
      "Epoch 31: early stopping\n"
     ]
    },
    {
     "data": {
      "text/plain": [
       "<keras.callbacks.History at 0x1cf72e42100>"
      ]
     },
     "execution_count": 12,
     "metadata": {},
     "output_type": "execute_result"
    }
   ],
   "source": [
    "model.fit(x=X_train, \n",
    "          y=y_train, \n",
    "          epochs=800,\n",
    "          validation_data=(X_test, y_test), verbose=1,\n",
    "          callbacks=[early_stopping]\n",
    "         )"
   ]
  },
  {
   "cell_type": "code",
   "execution_count": 13,
   "id": "b74d68fb",
   "metadata": {},
   "outputs": [],
   "source": [
    "model_loss = pd.DataFrame(model.history.history)"
   ]
  },
  {
   "cell_type": "code",
   "execution_count": 14,
   "id": "d2cd36d5",
   "metadata": {},
   "outputs": [
    {
     "data": {
      "text/plain": [
       "<AxesSubplot:>"
      ]
     },
     "execution_count": 14,
     "metadata": {},
     "output_type": "execute_result"
    },
    {
     "data": {
      "image/png": "[encoded data removed]",
      "text/plain": [
       "<Figure size 432x288 with 1 Axes>"
      ]
     },
     "metadata": {
      "needs_background": "light"
     },
     "output_type": "display_data"
    }
   ],
   "source": [
    "model_loss.plot()"
   ]
  },
  {
   "cell_type": "code",
   "execution_count": 15,
   "id": "e8d386cc",
   "metadata": {},
   "outputs": [],
   "source": [
    "model.save('car_game_model.h5')"
   ]
  },
  {
   "cell_type": "code",
   "execution_count": 16,
   "id": "339a8d3b",
   "metadata": {},
   "outputs": [],
   "source": [
    "import keras\n",
    "model = keras.models.load_model('car_game_model.h5')"
   ]
  },
  {
   "cell_type": "code",
   "execution_count": 20,
   "id": "991ca3eb",
   "metadata": {},
   "outputs": [
    {
     "name": "stdout",
     "output_type": "stream",
     "text": [
      "1/1 [==============================] - 0s 14ms/step\n",
      "{'i_sensor_1': 600, 'i_sensor_2': 94, 'i_sensor_3': 61, 'i_sensor_4': 200, 'i_sensor_5': 51}\n",
      "1/1 [==============================] - 0s 14ms/step\n",
      "{'i_sensor_1': 600, 'i_sensor_2': 60, 'i_sensor_3': 61, 'i_sensor_4': 200, 'i_sensor_5': 51}\n",
      "1/1 [==============================] - 0s 12ms/step\n",
      "{'i_sensor_1': 600, 'i_sensor_2': 68, 'i_sensor_3': 62, 'i_sensor_4': 200, 'i_sensor_5': 52}\n",
      "1/1 [==============================] - 0s 14ms/step\n",
      "{'i_sensor_1': 297, 'i_sensor_2': 54, 'i_sensor_3': 63, 'i_sensor_4': 200, 'i_sensor_5': 52}\n",
      "1/1 [==============================] - 0s 12ms/step\n",
      "{'i_sensor_1': 161, 'i_sensor_2': 54, 'i_sensor_3': 70, 'i_sensor_4': 200, 'i_sensor_5': 54}\n",
      "1/1 [==============================] - 0s 14ms/step\n",
      "{'i_sensor_1': 96, 'i_sensor_2': 29, 'i_sensor_3': 76, 'i_sensor_4': 200, 'i_sensor_5': 57}\n",
      "1/1 [==============================] - 0s 12ms/step\n",
      "{'i_sensor_1': 68, 'i_sensor_2': 31, 'i_sensor_3': 82, 'i_sensor_4': 200, 'i_sensor_5': 60}\n",
      "1/1 [==============================] - 0s 12ms/step\n",
      "{'i_sensor_1': 55, 'i_sensor_2': 29, 'i_sensor_3': 94, 'i_sensor_4': 200, 'i_sensor_5': 66}\n",
      "1/1 [==============================] - 0s 12ms/step\n",
      "{'i_sensor_1': 45, 'i_sensor_2': 26, 'i_sensor_3': 200, 'i_sensor_4': 32, 'i_sensor_5': 72}\n",
      "1/1 [==============================] - 0s 12ms/step\n",
      "{'i_sensor_1': 42, 'i_sensor_2': 23, 'i_sensor_3': 200, 'i_sensor_4': 43, 'i_sensor_5': 73}\n",
      "1/1 [==============================] - 0s 13ms/step\n",
      "{'i_sensor_1': 35, 'i_sensor_2': 20, 'i_sensor_3': 200, 'i_sensor_4': 50, 'i_sensor_5': 75}\n",
      "1/1 [==============================] - 0s 12ms/step\n",
      "{'i_sensor_1': 29, 'i_sensor_2': 17, 'i_sensor_3': 200, 'i_sensor_4': 59, 'i_sensor_5': 78}\n",
      "1/1 [==============================] - 0s 12ms/step\n",
      "{'i_sensor_1': 23, 'i_sensor_2': 14, 'i_sensor_3': 200, 'i_sensor_4': 76, 'i_sensor_5': 82}\n",
      "1/1 [==============================] - 0s 13ms/step\n",
      "{'i_sensor_1': 7, 'i_sensor_2': 11, 'i_sensor_3': 200, 'i_sensor_4': 98, 'i_sensor_5': 84}\n",
      "1/1 [==============================] - 0s 13ms/step\n",
      "{'i_sensor_1': 8, 'i_sensor_2': 8, 'i_sensor_3': 2, 'i_sensor_4': 101, 'i_sensor_5': 88}\n",
      "1/1 [==============================] - 0s 14ms/step\n",
      "{'i_sensor_1': 5, 'i_sensor_2': 5, 'i_sensor_3': 2, 'i_sensor_4': 6, 'i_sensor_5': 1}\n",
      "1/1 [==============================] - 0s 11ms/step\n",
      "{'i_sensor_1': 2, 'i_sensor_2': 3, 'i_sensor_3': 2, 'i_sensor_4': 3, 'i_sensor_5': 1}\n",
      "1/1 [==============================] - 0s 12ms/step\n",
      "{'i_sensor_1': 2, 'i_sensor_2': 200, 'i_sensor_3': 2, 'i_sensor_4': 200, 'i_sensor_5': 3}\n",
      "1/1 [==============================] - 0s 11ms/step\n",
      "{'i_sensor_1': 600, 'i_sensor_2': 200, 'i_sensor_3': 5, 'i_sensor_4': 200, 'i_sensor_5': 4}\n",
      "1/1 [==============================] - 0s 12ms/step\n",
      "{'i_sensor_1': 600, 'i_sensor_2': 200, 'i_sensor_3': 11, 'i_sensor_4': 200, 'i_sensor_5': 8}\n",
      "1/1 [==============================] - 0s 13ms/step\n",
      "{'i_sensor_1': 600, 'i_sensor_2': 200, 'i_sensor_3': 17, 'i_sensor_4': 200, 'i_sensor_5': 11}\n",
      "1/1 [==============================] - 0s 12ms/step\n",
      "{'i_sensor_1': 600, 'i_sensor_2': 200, 'i_sensor_3': 23, 'i_sensor_4': 200, 'i_sensor_5': 14}\n",
      "1/1 [==============================] - 0s 15ms/step\n",
      "{'i_sensor_1': 600, 'i_sensor_2': 200, 'i_sensor_3': 28, 'i_sensor_4': 200, 'i_sensor_5': 17}\n",
      "1/1 [==============================] - 0s 12ms/step\n",
      "{'i_sensor_1': 600, 'i_sensor_2': 200, 'i_sensor_3': 34, 'i_sensor_4': 200, 'i_sensor_5': 21}\n",
      "1/1 [==============================] - 0s 12ms/step\n",
      "{'i_sensor_1': 600, 'i_sensor_2': 200, 'i_sensor_3': 41, 'i_sensor_4': 200, 'i_sensor_5': 24}\n",
      "1/1 [==============================] - 0s 14ms/step\n",
      "{'i_sensor_1': 600, 'i_sensor_2': 200, 'i_sensor_3': 47, 'i_sensor_4': 200, 'i_sensor_5': 28}\n",
      "1/1 [==============================] - 0s 13ms/step\n",
      "{'i_sensor_1': 600, 'i_sensor_2': 200, 'i_sensor_3': 53, 'i_sensor_4': 200, 'i_sensor_5': 31}\n",
      "1/1 [==============================] - 0s 12ms/step\n",
      "{'i_sensor_1': 600, 'i_sensor_2': 200, 'i_sensor_3': 58, 'i_sensor_4': 200, 'i_sensor_5': 35}\n",
      "1/1 [==============================] - 0s 14ms/step\n",
      "{'i_sensor_1': 600, 'i_sensor_2': 200, 'i_sensor_3': 64, 'i_sensor_4': 200, 'i_sensor_5': 38}\n",
      "1/1 [==============================] - 0s 13ms/step\n",
      "{'i_sensor_1': 600, 'i_sensor_2': 200, 'i_sensor_3': 82, 'i_sensor_4': 200, 'i_sensor_5': 44}\n",
      "1/1 [==============================] - 0s 11ms/step\n",
      "{'i_sensor_1': 600, 'i_sensor_2': 200, 'i_sensor_3': 200, 'i_sensor_4': 200, 'i_sensor_5': 52}\n",
      "1/1 [==============================] - 0s 12ms/step\n",
      "{'i_sensor_1': 600, 'i_sensor_2': 200, 'i_sensor_3': 200, 'i_sensor_4': 200, 'i_sensor_5': 62}\n",
      "1/1 [==============================] - 0s 12ms/step\n",
      "{'i_sensor_1': 600, 'i_sensor_2': 200, 'i_sensor_3': 200, 'i_sensor_4': 200, 'i_sensor_5': 78}\n"
     ]
    }
   ],
   "source": [
    "from car_game.car_game import CarGame\n",
    "from car_game.road_enum import RoadEnum\n",
    "    \n",
    "car_game = CarGame(screen_size=(1280, 720), car_speed=6, frame_rate=60,\n",
    "                   road=RoadEnum.THREE, sensor_threshold=200, generate_train_data=False, nn_model=model, \n",
    "                   probability_to_decide=0.60)\n",
    "\n",
    "car_game.start_game()\n"
   ]
  },
  {
   "cell_type": "code",
   "execution_count": null,
   "id": "3c252709",
   "metadata": {},
   "outputs": [],
   "source": [
    "\n",
    "    \n",
    "    \n",
    "    \n",
    "    "
   ]
  },
  {
   "cell_type": "code",
   "execution_count": null,
   "id": "615435b7",
   "metadata": {},
   "outputs": [],
   "source": []
  },
  {
   "cell_type": "code",
   "execution_count": null,
   "id": "cdadb1a8",
   "metadata": {},
   "outputs": [],
   "source": []
  },
  {
   "cell_type": "code",
   "execution_count": null,
   "id": "c08b23de",
   "metadata": {},
   "outputs": [],
   "source": []
  },
  {
   "cell_type": "code",
   "execution_count": null,
   "id": "3346af76",
   "metadata": {},
   "outputs": [],
   "source": []
  },
  {
   "cell_type": "code",
   "execution_count": null,
   "id": "9cc2ed04",
   "metadata": {},
   "outputs": [],
   "source": []
  },
  {
   "cell_type": "code",
   "execution_count": null,
   "id": "579aed87",
   "metadata": {},
   "outputs": [],
   "source": []
  },
  {
   "cell_type": "code",
   "execution_count": null,
   "id": "6ddb784f",
   "metadata": {},
   "outputs": [],
   "source": []
  },
  {
   "cell_type": "code",
   "execution_count": null,
   "id": "8b8f4be2",
   "metadata": {},
   "outputs": [],
   "source": []
  }
 ],
 "metadata": {
  "kernelspec": {
   "display_name": "Python 3 (ipykernel)",
   "language": "python",
   "name": "python3"
  },
  "language_info": {
   "codemirror_mode": {
    "name": "ipython",
    "version": 3
   },
   "file_extension": ".py",
   "mimetype": "text/x-python",
   "name": "python",
   "nbconvert_exporter": "python",
   "pygments_lexer": "ipython3",
   "version": "3.9.7"
  }
 },
 "nbformat": 4,
 "nbformat_minor": 5
}
