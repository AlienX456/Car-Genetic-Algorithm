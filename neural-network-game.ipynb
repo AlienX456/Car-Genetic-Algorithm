{
 "cells": [
  {
   "cell_type": "code",
   "execution_count": 2,
   "id": "048f1f1f",
   "metadata": {},
   "outputs": [],
   "source": [
    "import pandas as pd"
   ]
  },
  {
   "cell_type": "code",
   "execution_count": 3,
   "id": "2fba5742",
   "metadata": {},
   "outputs": [],
   "source": [
    "df = pd.read_csv('./training_data_08-21-2022-20-45-58.csv')"
   ]
  },
  {
   "cell_type": "markdown",
   "id": "ab3bc950",
   "metadata": {},
   "source": [
    "# Analyse Data"
   ]
  },
  {
   "cell_type": "code",
   "execution_count": 4,
   "id": "5fdf94c7",
   "metadata": {},
   "outputs": [
    {
     "name": "stdout",
     "output_type": "stream",
     "text": [
      "<class 'pandas.core.frame.DataFrame'>\n",
      "RangeIndex: 2987 entries, 0 to 2986\n",
      "Data columns (total 6 columns):\n",
      " #   Column      Non-Null Count  Dtype\n",
      "---  ------      --------------  -----\n",
      " 0   Unnamed: 0  2987 non-null   int64\n",
      " 1   i_sensor_1  2987 non-null   int64\n",
      " 2   i_sensor_2  2987 non-null   int64\n",
      " 3   i_sensor_3  2987 non-null   int64\n",
      " 4   o_left      2987 non-null   bool \n",
      " 5   o_right     2987 non-null   bool \n",
      "dtypes: bool(2), int64(4)\n",
      "memory usage: 99.3 KB\n"
     ]
    }
   ],
   "source": [
    "df.info()"
   ]
  },
  {
   "cell_type": "code",
   "execution_count": 5,
   "id": "a5544e94",
   "metadata": {},
   "outputs": [
    {
     "data": {
      "text/plain": [
       "<AxesSubplot:>"
      ]
     },
     "execution_count": 5,
     "metadata": {},
     "output_type": "execute_result"
    },
    {
     "data": {
      "image/png": "[encoded data removed]",
      "text/plain": [
       "<Figure size 640x480 with 2 Axes>"
      ]
     },
     "metadata": {},
     "output_type": "display_data"
    }
   ],
   "source": [
    "import seaborn as sns\n",
    "sns.heatmap(df.corr())"
   ]
  },
  {
   "cell_type": "markdown",
   "id": "c67f708d",
   "metadata": {},
   "source": [
    "# Scale/convert input values"
   ]
  },
  {
   "cell_type": "code",
   "execution_count": 6,
   "id": "bb24743d",
   "metadata": {},
   "outputs": [],
   "source": [
    "df = df.astype({'o_left': int, 'o_right': int})   "
   ]
  },
  {
   "cell_type": "code",
   "execution_count": 7,
   "id": "536534f1",
   "metadata": {},
   "outputs": [
    {
     "data": {
      "text/html": [
       "<div>\n",
       "<style scoped>\n",
       "    .dataframe tbody tr th:only-of-type {\n",
       "        vertical-align: middle;\n",
       "    }\n",
       "\n",
       "    .dataframe tbody tr th {\n",
       "        vertical-align: top;\n",
       "    }\n",
       "\n",
       "    .dataframe thead th {\n",
       "        text-align: right;\n",
       "    }\n",
       "</style>\n",
       "<table border=\"1\" class=\"dataframe\">\n",
       "  <thead>\n",
       "    <tr style=\"text-align: right;\">\n",
       "      <th></th>\n",
       "      <th>Unnamed: 0</th>\n",
       "      <th>i_sensor_1</th>\n",
       "      <th>i_sensor_2</th>\n",
       "      <th>i_sensor_3</th>\n",
       "      <th>o_left</th>\n",
       "      <th>o_right</th>\n",
       "    </tr>\n",
       "  </thead>\n",
       "  <tbody>\n",
       "    <tr>\n",
       "      <th>0</th>\n",
       "      <td>0</td>\n",
       "      <td>-1</td>\n",
       "      <td>189</td>\n",
       "      <td>79</td>\n",
       "      <td>0</td>\n",
       "      <td>0</td>\n",
       "    </tr>\n",
       "    <tr>\n",
       "      <th>1</th>\n",
       "      <td>0</td>\n",
       "      <td>-1</td>\n",
       "      <td>186</td>\n",
       "      <td>79</td>\n",
       "      <td>0</td>\n",
       "      <td>0</td>\n",
       "    </tr>\n",
       "    <tr>\n",
       "      <th>2</th>\n",
       "      <td>0</td>\n",
       "      <td>-1</td>\n",
       "      <td>182</td>\n",
       "      <td>79</td>\n",
       "      <td>0</td>\n",
       "      <td>0</td>\n",
       "    </tr>\n",
       "    <tr>\n",
       "      <th>3</th>\n",
       "      <td>0</td>\n",
       "      <td>-1</td>\n",
       "      <td>178</td>\n",
       "      <td>79</td>\n",
       "      <td>0</td>\n",
       "      <td>0</td>\n",
       "    </tr>\n",
       "    <tr>\n",
       "      <th>4</th>\n",
       "      <td>0</td>\n",
       "      <td>-1</td>\n",
       "      <td>174</td>\n",
       "      <td>79</td>\n",
       "      <td>0</td>\n",
       "      <td>0</td>\n",
       "    </tr>\n",
       "  </tbody>\n",
       "</table>\n",
       "</div>"
      ],
      "text/plain": [
       "   Unnamed: 0  i_sensor_1  i_sensor_2  i_sensor_3  o_left  o_right\n",
       "0           0          -1         189          79       0        0\n",
       "1           0          -1         186          79       0        0\n",
       "2           0          -1         182          79       0        0\n",
       "3           0          -1         178          79       0        0\n",
       "4           0          -1         174          79       0        0"
      ]
     },
     "execution_count": 7,
     "metadata": {},
     "output_type": "execute_result"
    }
   ],
   "source": [
    "df.head()"
   ]
  },
  {
   "cell_type": "code",
   "execution_count": 8,
   "id": "6aceb1f6",
   "metadata": {},
   "outputs": [
    {
     "data": {
      "text/html": [
       "<div>\n",
       "<style scoped>\n",
       "    .dataframe tbody tr th:only-of-type {\n",
       "        vertical-align: middle;\n",
       "    }\n",
       "\n",
       "    .dataframe tbody tr th {\n",
       "        vertical-align: top;\n",
       "    }\n",
       "\n",
       "    .dataframe thead th {\n",
       "        text-align: right;\n",
       "    }\n",
       "</style>\n",
       "<table border=\"1\" class=\"dataframe\">\n",
       "  <thead>\n",
       "    <tr style=\"text-align: right;\">\n",
       "      <th></th>\n",
       "      <th>Unnamed: 0</th>\n",
       "      <th>i_sensor_1</th>\n",
       "      <th>i_sensor_2</th>\n",
       "      <th>i_sensor_3</th>\n",
       "      <th>o_left</th>\n",
       "      <th>o_right</th>\n",
       "    </tr>\n",
       "  </thead>\n",
       "  <tbody>\n",
       "    <tr>\n",
       "      <th>745</th>\n",
       "      <td>0</td>\n",
       "      <td>-1</td>\n",
       "      <td>119</td>\n",
       "      <td>171</td>\n",
       "      <td>1</td>\n",
       "      <td>0</td>\n",
       "    </tr>\n",
       "    <tr>\n",
       "      <th>772</th>\n",
       "      <td>0</td>\n",
       "      <td>-1</td>\n",
       "      <td>85</td>\n",
       "      <td>195</td>\n",
       "      <td>1</td>\n",
       "      <td>0</td>\n",
       "    </tr>\n",
       "    <tr>\n",
       "      <th>782</th>\n",
       "      <td>0</td>\n",
       "      <td>197</td>\n",
       "      <td>80</td>\n",
       "      <td>201</td>\n",
       "      <td>1</td>\n",
       "      <td>0</td>\n",
       "    </tr>\n",
       "    <tr>\n",
       "      <th>797</th>\n",
       "      <td>0</td>\n",
       "      <td>173</td>\n",
       "      <td>-1</td>\n",
       "      <td>201</td>\n",
       "      <td>1</td>\n",
       "      <td>0</td>\n",
       "    </tr>\n",
       "    <tr>\n",
       "      <th>807</th>\n",
       "      <td>0</td>\n",
       "      <td>157</td>\n",
       "      <td>-1</td>\n",
       "      <td>201</td>\n",
       "      <td>1</td>\n",
       "      <td>0</td>\n",
       "    </tr>\n",
       "    <tr>\n",
       "      <th>...</th>\n",
       "      <td>...</td>\n",
       "      <td>...</td>\n",
       "      <td>...</td>\n",
       "      <td>...</td>\n",
       "      <td>...</td>\n",
       "      <td>...</td>\n",
       "    </tr>\n",
       "    <tr>\n",
       "      <th>2299</th>\n",
       "      <td>0</td>\n",
       "      <td>-1</td>\n",
       "      <td>109</td>\n",
       "      <td>81</td>\n",
       "      <td>1</td>\n",
       "      <td>0</td>\n",
       "    </tr>\n",
       "    <tr>\n",
       "      <th>2301</th>\n",
       "      <td>0</td>\n",
       "      <td>-1</td>\n",
       "      <td>99</td>\n",
       "      <td>77</td>\n",
       "      <td>1</td>\n",
       "      <td>0</td>\n",
       "    </tr>\n",
       "    <tr>\n",
       "      <th>2304</th>\n",
       "      <td>0</td>\n",
       "      <td>-1</td>\n",
       "      <td>92</td>\n",
       "      <td>79</td>\n",
       "      <td>1</td>\n",
       "      <td>0</td>\n",
       "    </tr>\n",
       "    <tr>\n",
       "      <th>2311</th>\n",
       "      <td>0</td>\n",
       "      <td>-1</td>\n",
       "      <td>90</td>\n",
       "      <td>81</td>\n",
       "      <td>1</td>\n",
       "      <td>0</td>\n",
       "    </tr>\n",
       "    <tr>\n",
       "      <th>2953</th>\n",
       "      <td>0</td>\n",
       "      <td>-1</td>\n",
       "      <td>96</td>\n",
       "      <td>90</td>\n",
       "      <td>1</td>\n",
       "      <td>0</td>\n",
       "    </tr>\n",
       "  </tbody>\n",
       "</table>\n",
       "<p>104 rows × 6 columns</p>\n",
       "</div>"
      ],
      "text/plain": [
       "      Unnamed: 0  i_sensor_1  i_sensor_2  i_sensor_3  o_left  o_right\n",
       "745            0          -1         119         171       1        0\n",
       "772            0          -1          85         195       1        0\n",
       "782            0         197          80         201       1        0\n",
       "797            0         173          -1         201       1        0\n",
       "807            0         157          -1         201       1        0\n",
       "...          ...         ...         ...         ...     ...      ...\n",
       "2299           0          -1         109          81       1        0\n",
       "2301           0          -1          99          77       1        0\n",
       "2304           0          -1          92          79       1        0\n",
       "2311           0          -1          90          81       1        0\n",
       "2953           0          -1          96          90       1        0\n",
       "\n",
       "[104 rows x 6 columns]"
      ]
     },
     "execution_count": 8,
     "metadata": {},
     "output_type": "execute_result"
    }
   ],
   "source": [
    "df[df['o_left']==1]"
   ]
  },
  {
   "cell_type": "markdown",
   "id": "dc71558f",
   "metadata": {},
   "source": [
    "# Set Train and test "
   ]
  },
  {
   "cell_type": "code",
   "execution_count": 34,
   "id": "1d1765db",
   "metadata": {},
   "outputs": [],
   "source": [
    "from sklearn.model_selection import train_test_split\n",
    "X = df.drop(['o_left','o_right','Unnamed: 0'],axis=1).values\n",
    "y = df[['o_left','o_right']].values\n",
    "X_train, X_test, y_train, y_test = train_test_split(X,y,test_size=0.25,random_state=101)"
   ]
  },
  {
   "cell_type": "markdown",
   "id": "1c0c8443",
   "metadata": {},
   "source": [
    "# Create neural network"
   ]
  },
  {
   "cell_type": "code",
   "execution_count": 35,
   "id": "a4057941",
   "metadata": {},
   "outputs": [],
   "source": [
    "import tensorflow as tf\n",
    "from tensorflow.keras.models import Sequential\n",
    "from tensorflow.keras.layers import Dense, Activation,Dropout"
   ]
  },
  {
   "cell_type": "code",
   "execution_count": 88,
   "id": "dfcc7fe3",
   "metadata": {},
   "outputs": [
    {
     "data": {
      "text/plain": [
       "(2240, 3)"
      ]
     },
     "execution_count": 88,
     "metadata": {},
     "output_type": "execute_result"
    }
   ],
   "source": [
    "import os\n",
    "os.environ['CUDA_VISIBLE_DEVICES'] = '-1'\n",
    "model = Sequential()\n",
    "X_train.shape"
   ]
  },
  {
   "cell_type": "code",
   "execution_count": 90,
   "id": "77bb976e",
   "metadata": {},
   "outputs": [],
   "source": [
    "model.add(Dense(units=8, input_dim=3,activation='relu'))\n",
    "\n",
    "model.add(Dense(units=8,activation='relu'))\n",
    "\n",
    "model.add(Dense(2,activation='softmax'))\n",
    "\n",
    "model.compile(loss='binary_crossentropy', optimizer='adam')"
   ]
  },
  {
   "cell_type": "markdown",
   "id": "06a8af76",
   "metadata": {},
   "source": [
    "# Train model"
   ]
  },
  {
   "cell_type": "code",
   "execution_count": 91,
   "id": "01b1332a",
   "metadata": {},
   "outputs": [
    {
     "name": "stdout",
     "output_type": "stream",
     "text": [
      "Epoch 1/150\n",
      "70/70 [==============================] - 0s 2ms/step - loss: 0.6779 - val_loss: 0.6628\n",
      "Epoch 2/150\n",
      "70/70 [==============================] - 0s 936us/step - loss: 0.6479 - val_loss: 0.6340\n",
      "Epoch 3/150\n",
      "70/70 [==============================] - 0s 951us/step - loss: 0.6195 - val_loss: 0.6069\n",
      "Epoch 4/150\n",
      "70/70 [==============================] - 0s 956us/step - loss: 0.5929 - val_loss: 0.5812\n",
      "Epoch 5/150\n",
      "70/70 [==============================] - 0s 942us/step - loss: 0.5677 - val_loss: 0.5572\n",
      "Epoch 6/150\n",
      "70/70 [==============================] - 0s 965us/step - loss: 0.5441 - val_loss: 0.5347\n",
      "Epoch 7/150\n",
      "70/70 [==============================] - 0s 952us/step - loss: 0.5219 - val_loss: 0.5135\n",
      "Epoch 8/150\n",
      "70/70 [==============================] - 0s 931us/step - loss: 0.5011 - val_loss: 0.4936\n",
      "Epoch 9/150\n",
      "70/70 [==============================] - 0s 940us/step - loss: 0.4815 - val_loss: 0.4750\n",
      "Epoch 10/150\n",
      "70/70 [==============================] - 0s 995us/step - loss: 0.4631 - val_loss: 0.4575\n",
      "Epoch 11/150\n",
      "70/70 [==============================] - 0s 942us/step - loss: 0.4458 - val_loss: 0.4412\n",
      "Epoch 12/150\n",
      "70/70 [==============================] - 0s 945us/step - loss: 0.4296 - val_loss: 0.4257\n",
      "Epoch 13/150\n",
      "70/70 [==============================] - 0s 976us/step - loss: 0.4144 - val_loss: 0.4113\n",
      "Epoch 14/150\n",
      "70/70 [==============================] - 0s 955us/step - loss: 0.4001 - val_loss: 0.3977\n",
      "Epoch 15/150\n",
      "70/70 [==============================] - 0s 937us/step - loss: 0.3868 - val_loss: 0.3850\n",
      "Epoch 16/150\n",
      "70/70 [==============================] - 0s 959us/step - loss: 0.3742 - val_loss: 0.3732\n",
      "Epoch 17/150\n",
      "70/70 [==============================] - 0s 949us/step - loss: 0.3624 - val_loss: 0.3621\n",
      "Epoch 18/150\n",
      "70/70 [==============================] - 0s 954us/step - loss: 0.3513 - val_loss: 0.3516\n",
      "Epoch 19/150\n",
      "70/70 [==============================] - 0s 985us/step - loss: 0.3410 - val_loss: 0.3418\n",
      "Epoch 20/150\n",
      "70/70 [==============================] - 0s 1ms/step - loss: 0.3313 - val_loss: 0.3325\n",
      "Epoch 21/150\n",
      "70/70 [==============================] - 0s 963us/step - loss: 0.3221 - val_loss: 0.3241\n",
      "Epoch 22/150\n",
      "70/70 [==============================] - 0s 974us/step - loss: 0.3135 - val_loss: 0.3160\n",
      "Epoch 23/150\n",
      "70/70 [==============================] - 0s 981us/step - loss: 0.3055 - val_loss: 0.3084\n",
      "Epoch 24/150\n",
      "70/70 [==============================] - 0s 960us/step - loss: 0.2979 - val_loss: 0.3013\n",
      "Epoch 25/150\n",
      "70/70 [==============================] - 0s 950us/step - loss: 0.2908 - val_loss: 0.2947\n",
      "Epoch 26/150\n",
      "70/70 [==============================] - 0s 950us/step - loss: 0.2841 - val_loss: 0.2884\n",
      "Epoch 27/150\n",
      "70/70 [==============================] - 0s 976us/step - loss: 0.2779 - val_loss: 0.2825\n",
      "Epoch 28/150\n",
      "70/70 [==============================] - 0s 962us/step - loss: 0.2719 - val_loss: 0.2771\n",
      "Epoch 29/150\n",
      "70/70 [==============================] - 0s 954us/step - loss: 0.2664 - val_loss: 0.2719\n",
      "Epoch 30/150\n",
      "70/70 [==============================] - 0s 941us/step - loss: 0.2612 - val_loss: 0.2670\n",
      "Epoch 31/150\n",
      "70/70 [==============================] - 0s 961us/step - loss: 0.2563 - val_loss: 0.2625\n",
      "Epoch 32/150\n",
      "70/70 [==============================] - 0s 945us/step - loss: 0.2517 - val_loss: 0.2583\n",
      "Epoch 33/150\n",
      "70/70 [==============================] - 0s 964us/step - loss: 0.2474 - val_loss: 0.2543\n",
      "Epoch 34/150\n",
      "70/70 [==============================] - 0s 1ms/step - loss: 0.2433 - val_loss: 0.2505\n",
      "Epoch 35/150\n",
      "70/70 [==============================] - 0s 965us/step - loss: 0.2395 - val_loss: 0.2470\n",
      "Epoch 36/150\n",
      "70/70 [==============================] - 0s 935us/step - loss: 0.2359 - val_loss: 0.2437\n",
      "Epoch 37/150\n",
      "70/70 [==============================] - 0s 956us/step - loss: 0.2325 - val_loss: 0.2406\n",
      "Epoch 38/150\n",
      "70/70 [==============================] - 0s 981us/step - loss: 0.2294 - val_loss: 0.2377\n",
      "Epoch 39/150\n",
      "70/70 [==============================] - 0s 985us/step - loss: 0.2264 - val_loss: 0.2350\n",
      "Epoch 40/150\n",
      "70/70 [==============================] - 0s 971us/step - loss: 0.2236 - val_loss: 0.2324\n",
      "Epoch 41/150\n",
      "70/70 [==============================] - 0s 962us/step - loss: 0.2209 - val_loss: 0.2300\n",
      "Epoch 42/150\n",
      "70/70 [==============================] - 0s 952us/step - loss: 0.2184 - val_loss: 0.2278\n",
      "Epoch 43/150\n",
      "70/70 [==============================] - 0s 948us/step - loss: 0.2161 - val_loss: 0.2257\n",
      "Epoch 44/150\n",
      "70/70 [==============================] - 0s 979us/step - loss: 0.2139 - val_loss: 0.2238\n",
      "Epoch 45/150\n",
      "70/70 [==============================] - 0s 965us/step - loss: 0.2119 - val_loss: 0.2219\n",
      "Epoch 46/150\n",
      "70/70 [==============================] - 0s 967us/step - loss: 0.2099 - val_loss: 0.2202\n",
      "Epoch 47/150\n",
      "70/70 [==============================] - 0s 951us/step - loss: 0.2081 - val_loss: 0.2186\n",
      "Epoch 48/150\n",
      "70/70 [==============================] - 0s 966us/step - loss: 0.2064 - val_loss: 0.2171\n",
      "Epoch 49/150\n",
      "70/70 [==============================] - 0s 988us/step - loss: 0.2048 - val_loss: 0.2157\n",
      "Epoch 50/150\n",
      "70/70 [==============================] - 0s 1ms/step - loss: 0.2033 - val_loss: 0.2144\n",
      "Epoch 51/150\n",
      "70/70 [==============================] - 0s 955us/step - loss: 0.2019 - val_loss: 0.2131\n",
      "Epoch 52/150\n",
      "70/70 [==============================] - 0s 970us/step - loss: 0.2006 - val_loss: 0.2120\n",
      "Epoch 53/150\n",
      "70/70 [==============================] - 0s 969us/step - loss: 0.1994 - val_loss: 0.2110\n",
      "Epoch 54/150\n",
      "70/70 [==============================] - 0s 973us/step - loss: 0.1982 - val_loss: 0.2100\n",
      "Epoch 55/150\n",
      "70/70 [==============================] - 0s 946us/step - loss: 0.1972 - val_loss: 0.2091\n",
      "Epoch 56/150\n",
      "70/70 [==============================] - 0s 986us/step - loss: 0.1962 - val_loss: 0.2082\n",
      "Epoch 57/150\n",
      "70/70 [==============================] - 0s 990us/step - loss: 0.1952 - val_loss: 0.2074\n",
      "Epoch 58/150\n",
      "70/70 [==============================] - 0s 956us/step - loss: 0.1943 - val_loss: 0.2067\n",
      "Epoch 59/150\n",
      "70/70 [==============================] - 0s 950us/step - loss: 0.1935 - val_loss: 0.2060\n",
      "Epoch 60/150\n",
      "70/70 [==============================] - 0s 969us/step - loss: 0.1928 - val_loss: 0.2054\n",
      "Epoch 61/150\n",
      "70/70 [==============================] - 0s 971us/step - loss: 0.1921 - val_loss: 0.2048\n",
      "Epoch 62/150\n",
      "70/70 [==============================] - 0s 951us/step - loss: 0.1914 - val_loss: 0.2043\n",
      "Epoch 63/150\n",
      "70/70 [==============================] - 0s 969us/step - loss: 0.1908 - val_loss: 0.2038\n",
      "Epoch 64/150\n",
      "70/70 [==============================] - 0s 966us/step - loss: 0.1902 - val_loss: 0.2033\n",
      "Epoch 65/150\n",
      "70/70 [==============================] - 0s 997us/step - loss: 0.1897 - val_loss: 0.2029\n",
      "Epoch 66/150\n",
      "70/70 [==============================] - 0s 957us/step - loss: 0.1892 - val_loss: 0.2025\n",
      "Epoch 67/150\n",
      "70/70 [==============================] - 0s 940us/step - loss: 0.1887 - val_loss: 0.2022\n",
      "Epoch 68/150\n",
      "70/70 [==============================] - 0s 978us/step - loss: 0.1883 - val_loss: 0.2019\n",
      "Epoch 69/150\n",
      "70/70 [==============================] - 0s 957us/step - loss: 0.1879 - val_loss: 0.2016\n",
      "Epoch 70/150\n",
      "70/70 [==============================] - 0s 956us/step - loss: 0.1875 - val_loss: 0.2013\n",
      "Epoch 71/150\n",
      "70/70 [==============================] - 0s 955us/step - loss: 0.1872 - val_loss: 0.2011\n",
      "Epoch 72/150\n",
      "70/70 [==============================] - 0s 977us/step - loss: 0.1869 - val_loss: 0.2008\n",
      "Epoch 73/150\n",
      "70/70 [==============================] - 0s 966us/step - loss: 0.1866 - val_loss: 0.2006\n",
      "Epoch 74/150\n",
      "70/70 [==============================] - 0s 969us/step - loss: 0.1864 - val_loss: 0.2004\n",
      "Epoch 75/150\n",
      "70/70 [==============================] - 0s 957us/step - loss: 0.1861 - val_loss: 0.2003\n",
      "Epoch 76/150\n",
      "70/70 [==============================] - 0s 984us/step - loss: 0.1859 - val_loss: 0.2001\n",
      "Epoch 77/150\n",
      "70/70 [==============================] - 0s 966us/step - loss: 0.1857 - val_loss: 0.2000\n",
      "Epoch 78/150\n",
      "70/70 [==============================] - 0s 944us/step - loss: 0.1855 - val_loss: 0.1999\n",
      "Epoch 79/150\n",
      "70/70 [==============================] - 0s 951us/step - loss: 0.1853 - val_loss: 0.1998\n",
      "Epoch 80/150\n",
      "70/70 [==============================] - 0s 943us/step - loss: 0.1852 - val_loss: 0.1997\n",
      "Epoch 81/150\n"
     ]
    },
    {
     "name": "stdout",
     "output_type": "stream",
     "text": [
      "70/70 [==============================] - 0s 972us/step - loss: 0.1850 - val_loss: 0.1996\n",
      "Epoch 82/150\n",
      "70/70 [==============================] - 0s 1ms/step - loss: 0.1849 - val_loss: 0.1995\n",
      "Epoch 83/150\n",
      "70/70 [==============================] - 0s 975us/step - loss: 0.1848 - val_loss: 0.1994\n",
      "Epoch 84/150\n",
      "70/70 [==============================] - 0s 960us/step - loss: 0.1847 - val_loss: 0.1994\n",
      "Epoch 85/150\n",
      "70/70 [==============================] - 0s 960us/step - loss: 0.1846 - val_loss: 0.1993\n",
      "Epoch 86/150\n",
      "70/70 [==============================] - 0s 976us/step - loss: 0.1845 - val_loss: 0.1993\n",
      "Epoch 87/150\n",
      "70/70 [==============================] - 0s 966us/step - loss: 0.1844 - val_loss: 0.1993\n",
      "Epoch 88/150\n",
      "70/70 [==============================] - 0s 951us/step - loss: 0.1843 - val_loss: 0.1992\n",
      "Epoch 89/150\n",
      "70/70 [==============================] - 0s 959us/step - loss: 0.1843 - val_loss: 0.1992\n",
      "Epoch 90/150\n",
      "70/70 [==============================] - 0s 963us/step - loss: 0.1842 - val_loss: 0.1992\n",
      "Epoch 91/150\n",
      "70/70 [==============================] - 0s 961us/step - loss: 0.1842 - val_loss: 0.1991\n",
      "Epoch 92/150\n",
      "70/70 [==============================] - 0s 968us/step - loss: 0.1841 - val_loss: 0.1991\n",
      "Epoch 93/150\n",
      "70/70 [==============================] - 0s 997us/step - loss: 0.1841 - val_loss: 0.1991\n",
      "Epoch 94/150\n",
      "70/70 [==============================] - 0s 978us/step - loss: 0.1840 - val_loss: 0.1991\n",
      "Epoch 95/150\n",
      "70/70 [==============================] - 0s 975us/step - loss: 0.1840 - val_loss: 0.1991\n",
      "Epoch 96/150\n",
      "70/70 [==============================] - 0s 1ms/step - loss: 0.1840 - val_loss: 0.1991\n",
      "Epoch 97/150\n",
      "70/70 [==============================] - 0s 1ms/step - loss: 0.1839 - val_loss: 0.1991\n",
      "Epoch 98/150\n",
      "70/70 [==============================] - 0s 967us/step - loss: 0.1839 - val_loss: 0.1991\n",
      "Epoch 99/150\n",
      "70/70 [==============================] - 0s 961us/step - loss: 0.1839 - val_loss: 0.1991\n",
      "Epoch 100/150\n",
      "70/70 [==============================] - 0s 990us/step - loss: 0.1839 - val_loss: 0.1991\n",
      "Epoch 101/150\n",
      "70/70 [==============================] - 0s 972us/step - loss: 0.1839 - val_loss: 0.1991\n",
      "Epoch 102/150\n",
      "70/70 [==============================] - 0s 1ms/step - loss: 0.1838 - val_loss: 0.1991\n",
      "Epoch 103/150\n",
      "70/70 [==============================] - 0s 966us/step - loss: 0.1838 - val_loss: 0.1991\n",
      "Epoch 104/150\n",
      "70/70 [==============================] - 0s 978us/step - loss: 0.1838 - val_loss: 0.1991\n",
      "Epoch 105/150\n",
      "70/70 [==============================] - 0s 978us/step - loss: 0.1838 - val_loss: 0.1991\n",
      "Epoch 106/150\n",
      "70/70 [==============================] - 0s 995us/step - loss: 0.1838 - val_loss: 0.1991\n",
      "Epoch 107/150\n",
      "70/70 [==============================] - 0s 996us/step - loss: 0.1838 - val_loss: 0.1991\n",
      "Epoch 108/150\n",
      "70/70 [==============================] - 0s 976us/step - loss: 0.1838 - val_loss: 0.1991\n",
      "Epoch 109/150\n",
      "70/70 [==============================] - 0s 961us/step - loss: 0.1838 - val_loss: 0.1991\n",
      "Epoch 110/150\n",
      "70/70 [==============================] - 0s 971us/step - loss: 0.1838 - val_loss: 0.1991\n",
      "Epoch 111/150\n",
      "70/70 [==============================] - 0s 995us/step - loss: 0.1838 - val_loss: 0.1991\n",
      "Epoch 112/150\n",
      "70/70 [==============================] - 0s 966us/step - loss: 0.1838 - val_loss: 0.1991\n",
      "Epoch 113/150\n",
      "70/70 [==============================] - 0s 968us/step - loss: 0.1838 - val_loss: 0.1991\n",
      "Epoch 114/150\n",
      "70/70 [==============================] - 0s 981us/step - loss: 0.1838 - val_loss: 0.1991\n",
      "Epoch 115/150\n",
      "70/70 [==============================] - 0s 979us/step - loss: 0.1837 - val_loss: 0.1991\n",
      "Epoch 116/150\n",
      "70/70 [==============================] - 0s 967us/step - loss: 0.1837 - val_loss: 0.1991\n",
      "Epoch 117/150\n",
      "70/70 [==============================] - 0s 1ms/step - loss: 0.1837 - val_loss: 0.1991\n",
      "Epoch 118/150\n",
      "70/70 [==============================] - 0s 982us/step - loss: 0.1837 - val_loss: 0.1991\n",
      "Epoch 119/150\n",
      "70/70 [==============================] - 0s 989us/step - loss: 0.1837 - val_loss: 0.1991\n",
      "Epoch 120/150\n",
      "70/70 [==============================] - 0s 986us/step - loss: 0.1837 - val_loss: 0.1991\n",
      "Epoch 121/150\n",
      "70/70 [==============================] - 0s 997us/step - loss: 0.1837 - val_loss: 0.1991\n",
      "Epoch 122/150\n",
      "70/70 [==============================] - 0s 991us/step - loss: 0.1837 - val_loss: 0.1991\n",
      "Epoch 123/150\n",
      "70/70 [==============================] - 0s 970us/step - loss: 0.1837 - val_loss: 0.1991\n",
      "Epoch 124/150\n",
      "70/70 [==============================] - 0s 975us/step - loss: 0.1837 - val_loss: 0.1991\n",
      "Epoch 125/150\n",
      "70/70 [==============================] - 0s 960us/step - loss: 0.1837 - val_loss: 0.1991\n",
      "Epoch 126/150\n",
      "70/70 [==============================] - 0s 950us/step - loss: 0.1837 - val_loss: 0.1991\n",
      "Epoch 127/150\n",
      "70/70 [==============================] - 0s 991us/step - loss: 0.1837 - val_loss: 0.1992\n",
      "Epoch 128/150\n",
      "70/70 [==============================] - 0s 963us/step - loss: 0.1837 - val_loss: 0.1991\n",
      "Epoch 129/150\n",
      "70/70 [==============================] - 0s 965us/step - loss: 0.1837 - val_loss: 0.1991\n",
      "Epoch 130/150\n",
      "70/70 [==============================] - 0s 959us/step - loss: 0.1837 - val_loss: 0.1992\n",
      "Epoch 131/150\n",
      "70/70 [==============================] - 0s 967us/step - loss: 0.1837 - val_loss: 0.1991\n",
      "Epoch 132/150\n",
      "70/70 [==============================] - 0s 978us/step - loss: 0.1837 - val_loss: 0.1992\n",
      "Epoch 133/150\n",
      "70/70 [==============================] - 0s 953us/step - loss: 0.1837 - val_loss: 0.1991\n",
      "Epoch 134/150\n",
      "70/70 [==============================] - 0s 971us/step - loss: 0.1837 - val_loss: 0.1992\n",
      "Epoch 135/150\n",
      "70/70 [==============================] - 0s 947us/step - loss: 0.1837 - val_loss: 0.1992\n",
      "Epoch 136/150\n",
      "70/70 [==============================] - 0s 953us/step - loss: 0.1837 - val_loss: 0.1992\n",
      "Epoch 137/150\n",
      "70/70 [==============================] - 0s 970us/step - loss: 0.1837 - val_loss: 0.1992\n",
      "Epoch 138/150\n",
      "70/70 [==============================] - 0s 948us/step - loss: 0.1837 - val_loss: 0.1992\n",
      "Epoch 139/150\n",
      "70/70 [==============================] - 0s 1ms/step - loss: 0.1837 - val_loss: 0.1992\n",
      "Epoch 140/150\n",
      "70/70 [==============================] - 0s 993us/step - loss: 0.1837 - val_loss: 0.1992\n",
      "Epoch 141/150\n",
      "70/70 [==============================] - 0s 987us/step - loss: 0.1837 - val_loss: 0.1992\n",
      "Epoch 142/150\n",
      "70/70 [==============================] - 0s 993us/step - loss: 0.1837 - val_loss: 0.1991\n",
      "Epoch 143/150\n",
      "70/70 [==============================] - 0s 969us/step - loss: 0.1837 - val_loss: 0.1992\n",
      "Epoch 144/150\n",
      "70/70 [==============================] - 0s 987us/step - loss: 0.1837 - val_loss: 0.1992\n",
      "Epoch 145/150\n",
      "70/70 [==============================] - 0s 1ms/step - loss: 0.1837 - val_loss: 0.1991\n",
      "Epoch 146/150\n",
      "70/70 [==============================] - 0s 990us/step - loss: 0.1837 - val_loss: 0.1992\n",
      "Epoch 147/150\n",
      "70/70 [==============================] - 0s 1ms/step - loss: 0.1837 - val_loss: 0.1992\n",
      "Epoch 148/150\n",
      "70/70 [==============================] - 0s 989us/step - loss: 0.1837 - val_loss: 0.1992\n",
      "Epoch 149/150\n",
      "70/70 [==============================] - 0s 991us/step - loss: 0.1837 - val_loss: 0.1992\n",
      "Epoch 150/150\n",
      "70/70 [==============================] - 0s 999us/step - loss: 0.1837 - val_loss: 0.1992\n"
     ]
    },
    {
     "data": {
      "text/plain": [
       "<keras.callbacks.History at 0x7fa18060c670>"
      ]
     },
     "execution_count": 91,
     "metadata": {},
     "output_type": "execute_result"
    }
   ],
   "source": [
    "model.fit(x=X_train, \n",
    "          y=y_train, \n",
    "          epochs=150,\n",
    "          validation_data=(X_test, y_test), verbose=1\n",
    "          )"
   ]
  },
  {
   "cell_type": "code",
   "execution_count": 92,
   "id": "b74d68fb",
   "metadata": {},
   "outputs": [],
   "source": [
    "model_loss = pd.DataFrame(model.history.history)"
   ]
  },
  {
   "cell_type": "code",
   "execution_count": 1,
   "id": "d2cd36d5",
   "metadata": {},
   "outputs": [
    {
     "ename": "NameError",
     "evalue": "name 'model_loss' is not defined",
     "output_type": "error",
     "traceback": [
      "\u001b[0;31m---------------------------------------------------------------------------\u001b[0m",
      "\u001b[0;31mNameError\u001b[0m                                 Traceback (most recent call last)",
      "Input \u001b[0;32mIn [1]\u001b[0m, in \u001b[0;36m<cell line: 1>\u001b[0;34m()\u001b[0m\n\u001b[0;32m----> 1\u001b[0m \u001b[43mmodel_loss\u001b[49m\u001b[38;5;241m.\u001b[39mplot()\n",
      "\u001b[0;31mNameError\u001b[0m: name 'model_loss' is not defined"
     ]
    }
   ],
   "source": [
    "model_loss.plot()"
   ]
  },
  {
   "cell_type": "code",
   "execution_count": 110,
   "id": "991ca3eb",
   "metadata": {},
   "outputs": [
    {
     "ename": "KeyboardInterrupt",
     "evalue": "",
     "output_type": "error",
     "traceback": [
      "\u001b[0;31m---------------------------------------------------------------------------\u001b[0m",
      "\u001b[0;31mKeyboardInterrupt\u001b[0m                         Traceback (most recent call last)",
      "Input \u001b[0;32mIn [110]\u001b[0m, in \u001b[0;36m<cell line: 4>\u001b[0;34m()\u001b[0m\n\u001b[1;32m      1\u001b[0m car_game \u001b[38;5;241m=\u001b[39m CarGame(screen_size\u001b[38;5;241m=\u001b[39m(\u001b[38;5;241m1600\u001b[39m, \u001b[38;5;241m1200\u001b[39m), car_speed\u001b[38;5;241m=\u001b[39m\u001b[38;5;241m2\u001b[39m, frame_rate\u001b[38;5;241m=\u001b[39m\u001b[38;5;241m60\u001b[39m,\n\u001b[1;32m      2\u001b[0m                    road\u001b[38;5;241m=\u001b[39mRoadEnum\u001b[38;5;241m.\u001b[39mONE, sensor_threshold\u001b[38;5;241m=\u001b[39m\u001b[38;5;241m400\u001b[39m, generate_train_data\u001b[38;5;241m=\u001b[39m\u001b[38;5;28;01mFalse\u001b[39;00m)\n\u001b[0;32m----> 4\u001b[0m \u001b[43mcar_game\u001b[49m\u001b[38;5;241;43m.\u001b[39;49m\u001b[43mstart_game\u001b[49m\u001b[43m(\u001b[49m\u001b[43m)\u001b[49m\n",
      "File \u001b[0;32m~/PycharmProjects/Car-Genetic-Algorithm/car_game/car_game.py:123\u001b[0m, in \u001b[0;36mstart_game\u001b[0;34m(self)\u001b[0m\n\u001b[1;32m    118\u001b[0m     train_data_df \u001b[38;5;241m=\u001b[39m pandas\u001b[38;5;241m.\u001b[39mconcat([train_data_df, pandas\u001b[38;5;241m.\u001b[39mDataFrame([train_data_dict])], sort\u001b[38;5;241m=\u001b[39m\u001b[38;5;28;01mFalse\u001b[39;00m)\n\u001b[1;32m    121\u001b[0m \u001b[38;5;66;03m# PAINT DISPLAY AND OBJECTS AND SET FRAMERATE\u001b[39;00m\n\u001b[0;32m--> 123\u001b[0m \u001b[38;5;28mself\u001b[39m\u001b[38;5;241m.\u001b[39mscreen\u001b[38;5;241m.\u001b[39mfill(GRAY)\n\u001b[1;32m    124\u001b[0m \u001b[38;5;28mself\u001b[39m\u001b[38;5;241m.\u001b[39mscreen\u001b[38;5;241m.\u001b[39mblit(map_surface, map_sprite\u001b[38;5;241m.\u001b[39mrect)\n\u001b[1;32m    125\u001b[0m \u001b[38;5;28mself\u001b[39m\u001b[38;5;241m.\u001b[39mscreen\u001b[38;5;241m.\u001b[39mblit(player_image_1_rot, player_rect)\n",
      "\u001b[0;31mKeyboardInterrupt\u001b[0m: "
     ]
    }
   ],
   "source": [
    "car_game = CarGame(screen_size=(1600, 1200), car_speed=2, frame_rate=60,\n",
    "                   road=RoadEnum.ONE, sensor_threshold=400, generate_train_data=False)\n",
    "\n",
    "car_game.start_game()\n"
   ]
  },
  {
   "cell_type": "code",
   "execution_count": 109,
   "id": "3c252709",
   "metadata": {},
   "outputs": [
    {
     "ename": "AttributeError",
     "evalue": "'CarGame' object has no attribute 'game_over'",
     "output_type": "error",
     "traceback": [
      "\u001b[0;31m---------------------------------------------------------------------------\u001b[0m",
      "\u001b[0;31mAttributeError\u001b[0m                            Traceback (most recent call last)",
      "Input \u001b[0;32mIn [109]\u001b[0m, in \u001b[0;36m<cell line: 4>\u001b[0;34m()\u001b[0m\n\u001b[1;32m      1\u001b[0m \u001b[38;5;28;01mimport\u001b[39;00m \u001b[38;5;21;01mnumpy\u001b[39;00m \u001b[38;5;28;01mas\u001b[39;00m \u001b[38;5;21;01mnp\u001b[39;00m\n\u001b[1;32m      2\u001b[0m \u001b[38;5;28;01mimport\u001b[39;00m \u001b[38;5;21;01mpygame\u001b[39;00m\n\u001b[0;32m----> 4\u001b[0m \u001b[38;5;28;01mwhile\u001b[39;00m \u001b[43mcar_game\u001b[49m\u001b[38;5;241;43m.\u001b[39;49m\u001b[43mgame_over\u001b[49m:\n\u001b[1;32m      5\u001b[0m     input_model \u001b[38;5;241m=\u001b[39m np\u001b[38;5;241m.\u001b[39marray([[car_game\u001b[38;5;241m.\u001b[39mdistance_sensor_1,car_game\u001b[38;5;241m.\u001b[39mdistance_sensor_2,car_game\u001b[38;5;241m.\u001b[39mdistance_sensor_3]])\n\u001b[1;32m      6\u001b[0m     prediction \u001b[38;5;241m=\u001b[39m model\u001b[38;5;241m.\u001b[39mpredict(input_model)\n",
      "\u001b[0;31mAttributeError\u001b[0m: 'CarGame' object has no attribute 'game_over'"
     ]
    }
   ],
   "source": [
    "import numpy as np\n",
    "import pygame\n",
    "\n",
    "while car_game.game_over:\n",
    "    input_model = np.array([[car_game.distance_sensor_1,car_game.distance_sensor_2,car_game.distance_sensor_3]])\n",
    "    prediction = model.predict(input_model)\n",
    "    \n",
    "    print(prediction)\n",
    "    \n",
    "    if prediction[0][0] >= 0.5:\n",
    "        newevent = pygame.event.Event(pygame.locals.KEYDOWN, key=pygame.K_LEFT)\n",
    "        print('left')\n",
    "    elif prediction[0][1] >= 0.5:\n",
    "        newevent = pygame.event.Event(pygame.locals.KEYDOWN, key=pygame.K_RIGHT)\n",
    "        print('right')\n",
    "        \n",
    "    pygame.event.post(newevent)\n",
    "        \n",
    "    \n",
    "    \n",
    "    \n",
    "    "
   ]
  },
  {
   "cell_type": "code",
   "execution_count": null,
   "id": "615435b7",
   "metadata": {},
   "outputs": [],
   "source": [
    "newevent = pygame.event.Event(pygame.locals.KEYDOWN, key=pygame.K_RIGHT)\n",
    "pygame.event.post(newevent)"
   ]
  },
  {
   "cell_type": "code",
   "execution_count": null,
   "id": "cdadb1a8",
   "metadata": {},
   "outputs": [],
   "source": [
    "prediction = model.predict(input_model)"
   ]
  },
  {
   "cell_type": "code",
   "execution_count": null,
   "id": "c08b23de",
   "metadata": {},
   "outputs": [],
   "source": [
    "prediction[0][1]"
   ]
  },
  {
   "cell_type": "code",
   "execution_count": 82,
   "id": "3346af76",
   "metadata": {},
   "outputs": [],
   "source": []
  },
  {
   "cell_type": "code",
   "execution_count": 98,
   "id": "9cc2ed04",
   "metadata": {},
   "outputs": [
    {
     "name": "stdout",
     "output_type": "stream",
     "text": [
      "24/24 [==============================] - 0s 562us/step\n"
     ]
    }
   ],
   "source": []
  },
  {
   "cell_type": "code",
   "execution_count": 100,
   "id": "579aed87",
   "metadata": {},
   "outputs": [
    {
     "data": {
      "text/plain": [
       "array([0.37415695, 0.625843  , 0.37415695, ..., 0.625843  , 0.37415695,\n",
       "       0.625843  ], dtype=float32)"
      ]
     },
     "execution_count": 100,
     "metadata": {},
     "output_type": "execute_result"
    }
   ],
   "source": []
  },
  {
   "cell_type": "code",
   "execution_count": null,
   "id": "6ddb784f",
   "metadata": {},
   "outputs": [],
   "source": []
  }
 ],
 "metadata": {
  "kernelspec": {
   "display_name": "Python 3 (ipykernel)",
   "language": "python",
   "name": "python3"
  },
  "language_info": {
   "codemirror_mode": {
    "name": "ipython",
    "version": 3
   },
   "file_extension": ".py",
   "mimetype": "text/x-python",
   "name": "python",
   "nbconvert_exporter": "python",
   "pygments_lexer": "ipython3",
   "version": "3.9.12"
  }
 },
 "nbformat": 4,
 "nbformat_minor": 5
}
